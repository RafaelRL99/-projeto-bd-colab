{
 "cells": [
  {
   "cell_type": "markdown",
   "id": "bad96ec3",
   "metadata": {},
   "source": [
    "# Projeto Banco de Dados SQLite\n",
    "\n",
    "Este notebook cria a conexão inicial com o banco SQLite e a estrutura de tabelas."
   ]
  },
  {
   "cell_type": "code",
   "execution_count": null,
   "id": "32f4c57c",
   "metadata": {},
   "outputs": [],
   "source": [
    "# Importando a biblioteca sqlite3\n",
    "import sqlite3\n",
    "\n",
    "# Conectando ao banco de dados (arquivo local chamado 'empresa.db')\n",
    "# Se quiser usar em memória, troque por ':memory:'\n",
    "conn = sqlite3.connect('empresa.db')\n",
    "cursor = conn.cursor()\n",
    "\n",
    "# Ativando as FOREIGN KEYS\n",
    "cursor.execute(\"PRAGMA foreign_keys = ON;\")\n",
    "\n",
    "print(\"Conexão criada e FOREIGN KEYS ativadas.\")\n"
   ]
  },
  {
   "cell_type": "code",
   "execution_count": null,
   "id": "5cbfce9b",
   "metadata": {},
   "outputs": [],
   "source": [
    "# Criando tabela Departamentos\n",
    "cursor.execute('''\n",
    "CREATE TABLE IF NOT EXISTS Departamentos (\n",
    "    id_departamento INTEGER PRIMARY KEY,\n",
    "    nome TEXT NOT NULL\n",
    ")\n",
    "''')\n",
    "\n",
    "# Criando tabela Funcionarios\n",
    "cursor.execute('''\n",
    "CREATE TABLE IF NOT EXISTS Funcionarios (\n",
    "    id_funcionario INTEGER PRIMARY KEY,\n",
    "    nome TEXT NOT NULL,\n",
    "    cargo TEXT,\n",
    "    salario REAL,\n",
    "    id_departamento INTEGER,\n",
    "    FOREIGN KEY (id_departamento) REFERENCES Departamentos (id_departamento)\n",
    ")\n",
    "''')\n",
    "\n",
    "# Criando tabela Projetos\n",
    "cursor.execute('''\n",
    "CREATE TABLE IF NOT EXISTS Projetos (\n",
    "    id_projeto INTEGER PRIMARY KEY,\n",
    "    nome TEXT NOT NULL,\n",
    "    id_funcionario_responsavel INTEGER,\n",
    "    prazo TEXT,\n",
    "    FOREIGN KEY (id_funcionario_responsavel) REFERENCES Funcionarios (id_funcionario)\n",
    ")\n",
    "''')\n",
    "\n",
    "conn.commit()\n",
    "print(\"Tabelas criadas com sucesso!\")\n"
   ]
  }
 ],
 "metadata": {},
 "nbformat": 4,
 "nbformat_minor": 5
}
