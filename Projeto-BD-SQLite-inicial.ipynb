{
 "cells": [
  {
   "cell_type": "markdown",
   "id": "5e6c5843",
   "metadata": {},
   "source": [
    "# Projeto Banco de Dados SQLite\n",
    "\n",
    "Este notebook cria a conexão inicial com o banco SQLite para o projeto."
   ]
  },
  {
   "cell_type": "code",
   "execution_count": null,
   "id": "1844eb1a",
   "metadata": {},
   "outputs": [],
   "source": [
    "\n",
    "# Importando a biblioteca sqlite3\n",
    "import sqlite3\n",
    "\n",
    "# Conectando ao banco de dados (arquivo local chamado 'empresa.db')\n",
    "# Se quiser usar em memória, troque por ':memory:'\n",
    "conn = sqlite3.connect('empresa.db')\n",
    "cursor = conn.cursor()\n",
    "\n",
    "# Ativando as FOREIGN KEYS\n",
    "cursor.execute(\"PRAGMA foreign_keys = ON;\")\n",
    "\n",
    "print(\"Conexão criada e FOREIGN KEYS ativadas.\")\n"
   ]
  }
 ],
 "metadata": {},
 "nbformat": 4,
 "nbformat_minor": 5
}
