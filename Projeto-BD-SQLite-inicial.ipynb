{
 "cells": [
  {
   "cell_type": "markdown",
   "id": "d8230e22",
   "metadata": {},
   "source": [
    "# Projeto de Banco de Dados SQLite\n",
    "\n",
    "Este notebook cria um banco de dados, insere dados, faz consultas e finaliza com melhorias e comentários detalhados."
   ]
  },
  {
   "cell_type": "code",
   "execution_count": null,
   "id": "696be992",
   "metadata": {},
   "outputs": [],
   "source": [
    "\n",
    "import sqlite3\n",
    "\n",
    "# Conectando ao banco de dados (arquivo local chamado 'empresa.db')\n",
    "conn = sqlite3.connect('empresa.db')\n",
    "cursor = conn.cursor()\n",
    "\n",
    "# Ativando as FOREIGN KEYS para garantir integridade referencial\n",
    "cursor.execute(\"PRAGMA foreign_keys = ON;\")\n",
    "print(\"Conexão criada e FOREIGN KEYS ativadas.\")\n"
   ]
  },
  {
   "cell_type": "markdown",
   "id": "363f01d5",
   "metadata": {},
   "source": [
    "## Criação das tabelas"
   ]
  },
  {
   "cell_type": "code",
   "execution_count": null,
   "id": "3b87bdd8",
   "metadata": {},
   "outputs": [],
   "source": [
    "\n",
    "# Criando tabela Departamentos\n",
    "cursor.execute('''\n",
    "CREATE TABLE IF NOT EXISTS Departamentos (\n",
    "    id_departamento INTEGER PRIMARY KEY,\n",
    "    nome TEXT NOT NULL\n",
    ")\n",
    "''')\n",
    "\n",
    "# Criando tabela Funcionarios\n",
    "cursor.execute('''\n",
    "CREATE TABLE IF NOT EXISTS Funcionarios (\n",
    "    id_funcionario INTEGER PRIMARY KEY,\n",
    "    nome TEXT NOT NULL,\n",
    "    cargo TEXT,\n",
    "    salario REAL,\n",
    "    id_departamento INTEGER,\n",
    "    FOREIGN KEY (id_departamento) REFERENCES Departamentos (id_departamento)\n",
    ")\n",
    "''')\n",
    "\n",
    "# Criando tabela Projetos\n",
    "cursor.execute('''\n",
    "CREATE TABLE IF NOT EXISTS Projetos (\n",
    "    id_projeto INTEGER PRIMARY KEY,\n",
    "    nome TEXT NOT NULL,\n",
    "    id_funcionario_responsavel INTEGER,\n",
    "    prazo TEXT,\n",
    "    FOREIGN KEY (id_funcionario_responsavel) REFERENCES Funcionarios (id_funcionario)\n",
    ")\n",
    "''')\n",
    "\n",
    "conn.commit()\n",
    "print(\"Tabelas criadas com sucesso!\")\n"
   ]
  },
  {
   "cell_type": "markdown",
   "id": "aeb6f389",
   "metadata": {},
   "source": [
    "## Inserção de dados"
   ]
  },
  {
   "cell_type": "code",
   "execution_count": null,
   "id": "2e86ba08",
   "metadata": {},
   "outputs": [],
   "source": [
    "\n",
    "# Inserindo departamentos\n",
    "departamentos = [\n",
    "    (1, 'Recursos Humanos'),\n",
    "    (2, 'Tecnologia'),\n",
    "    (3, 'Financeiro')\n",
    "]\n",
    "cursor.executemany(\"INSERT INTO Departamentos VALUES (?, ?)\", departamentos)\n",
    "\n",
    "# Inserindo funcionários\n",
    "funcionarios = [\n",
    "    (1, 'Ana Costa', 'Analista', 3500.00, 2),\n",
    "    (2, 'Carlos Lima', 'Gerente', 7000.00, 1),\n",
    "    (3, 'Paula Souza', 'Assistente', 2500.00, 3)\n",
    "]\n",
    "cursor.executemany(\"INSERT INTO Funcionarios VALUES (?, ?, ?, ?, ?)\", funcionarios)\n",
    "\n",
    "# Inserindo projetos\n",
    "projetos = [\n",
    "    (1, 'Projeto Alpha', 1, '2025-12-31'),\n",
    "    (2, 'Projeto Beta', 2, '2025-11-30'),\n",
    "    (3, 'Projeto Gamma', 3, '2025-10-15')\n",
    "]\n",
    "cursor.executemany(\"INSERT INTO Projetos VALUES (?, ?, ?, ?)\", projetos)\n",
    "\n",
    "conn.commit()\n",
    "print(\"Dados inseridos com sucesso!\")\n"
   ]
  },
  {
   "cell_type": "markdown",
   "id": "b4074906",
   "metadata": {},
   "source": [
    "## Consultas"
   ]
  },
  {
   "cell_type": "code",
   "execution_count": null,
   "id": "69627299",
   "metadata": {},
   "outputs": [],
   "source": [
    "\n",
    "# Consulta simples: Listar todos os funcionários\n",
    "print(\"\\nLista de Funcionários:\")\n",
    "for row in cursor.execute(\"SELECT * FROM Funcionarios\"):\n",
    "    print(row)\n",
    "\n",
    "# Consulta com JOIN: Funcionários + Departamento\n",
    "print(\"\\nFuncionários com seus Departamentos:\")\n",
    "cursor.execute('''\n",
    "SELECT Funcionarios.nome, Funcionarios.cargo, Departamentos.nome AS departamento\n",
    "FROM Funcionarios\n",
    "JOIN Departamentos ON Funcionarios.id_departamento = Departamentos.id_departamento\n",
    "''')\n",
    "for row in cursor.fetchall():\n",
    "    print(row)\n",
    "\n",
    "# Consulta com WHERE + ORDER BY\n",
    "print(\"\\nFuncionários com salário acima de 3000, ordenados por salário DESC:\")\n",
    "cursor.execute('''\n",
    "SELECT nome, salario FROM Funcionarios\n",
    "WHERE salario > 3000\n",
    "ORDER BY salario DESC\n",
    "''')\n",
    "for row in cursor.fetchall():\n",
    "    print(row)\n",
    "\n",
    "# JOIN dupla: Projetos + Funcionários + Departamentos\n",
    "print(\"\\nProjetos com seus responsáveis e departamentos:\")\n",
    "cursor.execute('''\n",
    "SELECT Projetos.nome AS projeto,\n",
    "       Funcionarios.nome AS responsavel,\n",
    "       Departamentos.nome AS departamento\n",
    "FROM Projetos\n",
    "JOIN Funcionarios ON Projetos.id_funcionario_responsavel = Funcionarios.id_funcionario\n",
    "JOIN Departamentos ON Funcionarios.id_departamento = Departamentos.id_departamento\n",
    "''')\n",
    "for row in cursor.fetchall():\n",
    "    print(row)\n"
   ]
  },
  {
   "cell_type": "markdown",
   "id": "d97a18f0",
   "metadata": {},
   "source": [
    "## Finalização"
   ]
  },
  {
   "cell_type": "code",
   "execution_count": null,
   "id": "2ae47a6a",
   "metadata": {},
   "outputs": [],
   "source": [
    "\n",
    "# Fechando a conexão\n",
    "conn.close()\n",
    "print(\"\\nConexão encerrada.\")\n"
   ]
  }
 ],
 "metadata": {},
 "nbformat": 4,
 "nbformat_minor": 5
}
