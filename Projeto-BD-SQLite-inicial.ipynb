{
 "cells": [
  {
   "cell_type": "markdown",
   "id": "e07de13d",
   "metadata": {},
   "source": [
    "# Projeto Banco de Dados SQLite - Etapa 4️⃣\n",
    "\n",
    "**Consultas SELECT Simples e Avançadas**\n",
    "\n",
    "Este notebook contém consultas simples e avançadas para explorar os dados do banco de dados."
   ]
  },
  {
   "cell_type": "code",
   "execution_count": null,
   "id": "c4470f37",
   "metadata": {},
   "outputs": [],
   "source": [
    "\n",
    "import sqlite3\n",
    "\n",
    "# Conectando ao banco de dados\n",
    "conn = sqlite3.connect('empresa.db')\n",
    "cursor = conn.cursor()\n",
    "\n",
    "# Ativando as FOREIGN KEYS\n",
    "cursor.execute(\"PRAGMA foreign_keys = ON;\")\n",
    "print(\"Conexão criada e FOREIGN KEYS ativadas.\")\n"
   ]
  },
  {
   "cell_type": "code",
   "execution_count": null,
   "id": "01138236",
   "metadata": {},
   "outputs": [],
   "source": [
    "\n",
    "# Consulta simples: Listar todos os funcionários\n",
    "print(\"\\nLista de Funcionários:\")\n",
    "for row in cursor.execute(\"SELECT * FROM Funcionarios\"):\n",
    "    print(row)\n"
   ]
  },
  {
   "cell_type": "code",
   "execution_count": null,
   "id": "2f4f9d28",
   "metadata": {},
   "outputs": [],
   "source": [
    "\n",
    "# JOIN Funcionários + Departamento\n",
    "print(\"\\nFuncionários com seus Departamentos:\")\n",
    "cursor.execute('''\n",
    "SELECT Funcionarios.nome, Funcionarios.cargo, Departamentos.nome AS departamento\n",
    "FROM Funcionarios\n",
    "JOIN Departamentos ON Funcionarios.id_departamento = Departamentos.id_departamento\n",
    "''')\n",
    "for row in cursor.fetchall():\n",
    "    print(row)\n"
   ]
  },
  {
   "cell_type": "code",
   "execution_count": null,
   "id": "f35eead3",
   "metadata": {},
   "outputs": [],
   "source": [
    "\n",
    "# WHERE + ORDER BY\n",
    "print(\"\\nFuncionários com salário acima de 3000, ordenados por salário DESC:\")\n",
    "cursor.execute('''\n",
    "SELECT nome, salario FROM Funcionarios\n",
    "WHERE salario > 3000\n",
    "ORDER BY salario DESC\n",
    "''')\n",
    "for row in cursor.fetchall():\n",
    "    print(row)\n"
   ]
  },
  {
   "cell_type": "code",
   "execution_count": null,
   "id": "a28bdcfe",
   "metadata": {},
   "outputs": [],
   "source": [
    "\n",
    "# JOIN dupla: Projetos + Funcionários + Departamentos\n",
    "print(\"\\nProjetos com seus responsáveis e departamentos:\")\n",
    "cursor.execute('''\n",
    "SELECT Projetos.nome AS projeto,\n",
    "       Funcionarios.nome AS responsavel,\n",
    "       Departamentos.nome AS departamento\n",
    "FROM Projetos\n",
    "JOIN Funcionarios ON Projetos.id_funcionario_responsavel = Funcionarios.id_funcionario\n",
    "JOIN Departamentos ON Funcionarios.id_departamento = Departamentos.id_departamento\n",
    "''')\n",
    "for row in cursor.fetchall():\n",
    "    print(row)\n"
   ]
  }
 ],
 "metadata": {},
 "nbformat": 4,
 "nbformat_minor": 5
}
